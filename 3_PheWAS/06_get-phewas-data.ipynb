{
 "cells": [
  {
   "cell_type": "markdown",
   "metadata": {},
   "source": [
    "# Extract phenotype data from ICD10 for PheWAS analysis\n",
    "\n",
    "## As-Is Software Disclaimer\n",
    "\n",
    "This notebook is delivered \"As-Is\". Notwithstanding anything to the contrary, DNAnexus will have no warranty, support, liability or other obligations with respect to Materials provided hereunder.\n",
    "\n",
    "[MIT License](https://github.com/dnanexus/UKB_RAP/blob/main/LICENSE) applies to this notebook."
   ]
  },
  {
   "cell_type": "markdown",
   "metadata": {},
   "source": [
    "## Jupyterlab app details (launch configuration)\n",
    "\n",
    "Recommended configuration\n",
    "- Runtime: ~20 min\n",
    "- Cluster configuration: `Single Node`\n",
    "- Recommended instance: `mem2_ssd1_v2_x32`\n",
    "- Cost: ~£0.5"
   ]
  },
  {
   "cell_type": "markdown",
   "metadata": {},
   "source": [
    "## Dependencies\n",
    "|Library |License|\n",
    "|:------------- |:-------------|\n",
    "|[pandas](https://pandas.pydata.org/) |[BSD-3](https://github.com/pandas-dev/pandas/blob/main/LICENSE)|\n",
    "|[numpy](https://numpy.org/) |[BSD-3](https://github.com/numpy/numpy/blob/main/LICENSE.txt)|\n",
    "|[bgenix](https://enkre.net/cgi-bin/code/bgen/doc/trunk/doc/wiki/bgenix.md) | [Boost Software License (MIT-like)](https://enkre.net/cgi-bin/code/bgen/file?name=LICENSE_1_0.txt&ci=trunk)|\n",
    "|[PLINK2](https://www.cog-genomics.org/plink/2.0/) |[GPL](https://github.com/chrchang/plink-ng/blob/master/2.0/COPYING)|\n"
   ]
  },
  {
   "cell_type": "markdown",
   "metadata": {},
   "source": [
    "## Introduction\n",
    "This notebook:\n",
    "- Retrieves ICD10 codes for samples\n",
    "- Create phenotype table in long format for subsequent PheWAS analysis\n",
    "- Cleans covariates file\n",
    "- Extracts genetic data, one file per variant\n",
    "- Uploads data to UKB RAP"
   ]
  },
  {
   "cell_type": "markdown",
   "metadata": {},
   "source": [
    "## Prepare your environment"
   ]
  },
  {
   "cell_type": "markdown",
   "metadata": {},
   "source": [
    "Uncomment the install commands if you are comfortable with the library license and want to install and run the parts notebook that depend on the library."
   ]
  },
  {
   "cell_type": "code",
   "execution_count": 3,
   "metadata": {
    "collapsed": true,
    "jupyter": {
     "outputs_hidden": true
    },
    "tags": []
   },
   "outputs": [
    {
     "ename": "CalledProcessError",
     "evalue": "Command 'b'# Install PLINK2\\ncd /opt/notebooks\\nwget https://s3.amazonaws.com/plink2-assets/alpha3/plink2_linux_avx2_20220814.zip\\nunzip -o plink2_linux_avx2_20220814.zip\\n'' returned non-zero exit status 9.",
     "output_type": "error",
     "traceback": [
      "\u001b[0;31m---------------------------------------------------------------------------\u001b[0m",
      "\u001b[0;31mCalledProcessError\u001b[0m                        Traceback (most recent call last)",
      "Cell \u001b[0;32mIn[3], line 1\u001b[0m\n\u001b[0;32m----> 1\u001b[0m \u001b[43mget_ipython\u001b[49m\u001b[43m(\u001b[49m\u001b[43m)\u001b[49m\u001b[38;5;241;43m.\u001b[39;49m\u001b[43mrun_cell_magic\u001b[49m\u001b[43m(\u001b[49m\u001b[38;5;124;43m'\u001b[39;49m\u001b[38;5;124;43mbash\u001b[39;49m\u001b[38;5;124;43m'\u001b[39;49m\u001b[43m,\u001b[49m\u001b[43m \u001b[49m\u001b[38;5;124;43m'\u001b[39;49m\u001b[38;5;124;43m'\u001b[39;49m\u001b[43m,\u001b[49m\u001b[43m \u001b[49m\u001b[38;5;124;43m'\u001b[39;49m\u001b[38;5;124;43m# Install PLINK2\u001b[39;49m\u001b[38;5;130;43;01m\\n\u001b[39;49;00m\u001b[38;5;124;43mcd /opt/notebooks\u001b[39;49m\u001b[38;5;130;43;01m\\n\u001b[39;49;00m\u001b[38;5;124;43mwget https://s3.amazonaws.com/plink2-assets/alpha3/plink2_linux_avx2_20220814.zip\u001b[39;49m\u001b[38;5;130;43;01m\\n\u001b[39;49;00m\u001b[38;5;124;43munzip -o plink2_linux_avx2_20220814.zip\u001b[39;49m\u001b[38;5;130;43;01m\\n\u001b[39;49;00m\u001b[38;5;124;43m'\u001b[39;49m\u001b[43m)\u001b[49m\n",
      "File \u001b[0;32m/opt/conda/lib/python3.11/site-packages/IPython/core/interactiveshell.py:2517\u001b[0m, in \u001b[0;36mInteractiveShell.run_cell_magic\u001b[0;34m(self, magic_name, line, cell)\u001b[0m\n\u001b[1;32m   2515\u001b[0m \u001b[38;5;28;01mwith\u001b[39;00m \u001b[38;5;28mself\u001b[39m\u001b[38;5;241m.\u001b[39mbuiltin_trap:\n\u001b[1;32m   2516\u001b[0m     args \u001b[38;5;241m=\u001b[39m (magic_arg_s, cell)\n\u001b[0;32m-> 2517\u001b[0m     result \u001b[38;5;241m=\u001b[39m \u001b[43mfn\u001b[49m\u001b[43m(\u001b[49m\u001b[38;5;241;43m*\u001b[39;49m\u001b[43margs\u001b[49m\u001b[43m,\u001b[49m\u001b[43m \u001b[49m\u001b[38;5;241;43m*\u001b[39;49m\u001b[38;5;241;43m*\u001b[39;49m\u001b[43mkwargs\u001b[49m\u001b[43m)\u001b[49m\n\u001b[1;32m   2519\u001b[0m \u001b[38;5;66;03m# The code below prevents the output from being displayed\u001b[39;00m\n\u001b[1;32m   2520\u001b[0m \u001b[38;5;66;03m# when using magics with decorator @output_can_be_silenced\u001b[39;00m\n\u001b[1;32m   2521\u001b[0m \u001b[38;5;66;03m# when the last Python token in the expression is a ';'.\u001b[39;00m\n\u001b[1;32m   2522\u001b[0m \u001b[38;5;28;01mif\u001b[39;00m \u001b[38;5;28mgetattr\u001b[39m(fn, magic\u001b[38;5;241m.\u001b[39mMAGIC_OUTPUT_CAN_BE_SILENCED, \u001b[38;5;28;01mFalse\u001b[39;00m):\n",
      "File \u001b[0;32m/opt/conda/lib/python3.11/site-packages/IPython/core/magics/script.py:154\u001b[0m, in \u001b[0;36mScriptMagics._make_script_magic.<locals>.named_script_magic\u001b[0;34m(line, cell)\u001b[0m\n\u001b[1;32m    152\u001b[0m \u001b[38;5;28;01melse\u001b[39;00m:\n\u001b[1;32m    153\u001b[0m     line \u001b[38;5;241m=\u001b[39m script\n\u001b[0;32m--> 154\u001b[0m \u001b[38;5;28;01mreturn\u001b[39;00m \u001b[38;5;28;43mself\u001b[39;49m\u001b[38;5;241;43m.\u001b[39;49m\u001b[43mshebang\u001b[49m\u001b[43m(\u001b[49m\u001b[43mline\u001b[49m\u001b[43m,\u001b[49m\u001b[43m \u001b[49m\u001b[43mcell\u001b[49m\u001b[43m)\u001b[49m\n",
      "File \u001b[0;32m/opt/conda/lib/python3.11/site-packages/IPython/core/magics/script.py:314\u001b[0m, in \u001b[0;36mScriptMagics.shebang\u001b[0;34m(self, line, cell)\u001b[0m\n\u001b[1;32m    309\u001b[0m \u001b[38;5;28;01mif\u001b[39;00m args\u001b[38;5;241m.\u001b[39mraise_error \u001b[38;5;129;01mand\u001b[39;00m p\u001b[38;5;241m.\u001b[39mreturncode \u001b[38;5;241m!=\u001b[39m \u001b[38;5;241m0\u001b[39m:\n\u001b[1;32m    310\u001b[0m     \u001b[38;5;66;03m# If we get here and p.returncode is still None, we must have\u001b[39;00m\n\u001b[1;32m    311\u001b[0m     \u001b[38;5;66;03m# killed it but not yet seen its return code. We don't wait for it,\u001b[39;00m\n\u001b[1;32m    312\u001b[0m     \u001b[38;5;66;03m# in case it's stuck in uninterruptible sleep. -9 = SIGKILL\u001b[39;00m\n\u001b[1;32m    313\u001b[0m     rc \u001b[38;5;241m=\u001b[39m p\u001b[38;5;241m.\u001b[39mreturncode \u001b[38;5;129;01mor\u001b[39;00m \u001b[38;5;241m-\u001b[39m\u001b[38;5;241m9\u001b[39m\n\u001b[0;32m--> 314\u001b[0m     \u001b[38;5;28;01mraise\u001b[39;00m CalledProcessError(rc, cell)\n",
      "\u001b[0;31mCalledProcessError\u001b[0m: Command 'b'# Install PLINK2\\ncd /opt/notebooks\\nwget https://s3.amazonaws.com/plink2-assets/alpha3/plink2_linux_avx2_20220814.zip\\nunzip -o plink2_linux_avx2_20220814.zip\\n'' returned non-zero exit status 9."
     ]
    }
   ],
   "source": [
    "%%capture captured\n",
    "%%bash\n",
    "# Install PLINK2\n",
    "cd /opt/notebooks\n",
    "wget https://s3.amazonaws.com/plink2-assets/alpha3/plink2_linux_avx2_20220814.zip\n",
    "unzip -o plink2_linux_avx2_20220814.zip"
   ]
  },
  {
   "cell_type": "code",
   "execution_count": 4,
   "metadata": {
    "tags": []
   },
   "outputs": [
    {
     "ename": "SyntaxError",
     "evalue": "invalid syntax (1996643621.py, line 1)",
     "output_type": "error",
     "traceback": [
      "\u001b[0;36m  Cell \u001b[0;32mIn[4], line 1\u001b[0;36m\u001b[0m\n\u001b[0;31m    ./plink2 --version\u001b[0m\n\u001b[0m    ^\u001b[0m\n\u001b[0;31mSyntaxError\u001b[0m\u001b[0;31m:\u001b[0m invalid syntax\n"
     ]
    }
   ],
   "source": [
    "./plink2 --version"
   ]
  },
  {
   "cell_type": "code",
   "execution_count": null,
   "metadata": {},
   "outputs": [],
   "source": [
    "%%capture captured\n",
    "%%bash\n",
    "# Install bgenix\n",
    "cd /opt/notebooks\n",
    "wget http://code.enkre.net/bgen/tarball/release/bgen.tgz\n",
    "tar xvfz bgen.tgz > /dev/null\n",
    "cd bgen.tgz/\n",
    "./waf configure \n",
    "./waf \n",
    "./build/test/unit/test_bgen\n",
    "./build/apps/bgenix -g example/example.16bits.bgen –list\n",
    "cd /opt/notebooks"
   ]
  },
  {
   "cell_type": "code",
   "execution_count": 3,
   "metadata": {
    "tags": []
   },
   "outputs": [],
   "source": [
    "import dxpy\n",
    "import numpy as np\n",
    "import pandas as pd\n",
    "import re\n",
    "import shutil\n",
    "import subprocess\n",
    "import glob\n",
    "import os\n",
    "import ast"
   ]
  },
  {
   "cell_type": "markdown",
   "metadata": {},
   "source": [
    "## Load dataset description and select entity containing phenotypic data"
   ]
  },
  {
   "cell_type": "code",
   "execution_count": 6,
   "metadata": {
    "tags": []
   },
   "outputs": [],
   "source": [
    "# Automatically discover dispensed dataset ID and load the dataset\n",
    "dispensed_dataset = dxpy.find_one_data_object(\n",
    "    typename=\"Dataset\", name=\"app*.dataset\", folder=\"/\", name_mode=\"glob\"\n",
    ")\n",
    "dispensed_dataset_id = dispensed_dataset[\"id\"]"
   ]
  },
  {
   "cell_type": "code",
   "execution_count": 7,
   "metadata": {
    "tags": []
   },
   "outputs": [],
   "source": [
    "# Get project ID\n",
    "project_id = dxpy.find_one_project()[\"id\"]"
   ]
  },
  {
   "cell_type": "code",
   "execution_count": 8,
   "metadata": {
    "tags": []
   },
   "outputs": [],
   "source": [
    "dataset = (\":\").join([project_id, dispensed_dataset_id])"
   ]
  },
  {
   "cell_type": "markdown",
   "metadata": {},
   "source": [
    "Using the `-ddd` parameter will extract 3 dictionary files associated with the dataset.\n",
    "\n",
    "The 3 dictionary files that are returned include:\n",
    "1. `entity_dictionary` that contains the different tables resources that are available. The table we’re most interested in tends to be the participant table that contains the information about each participant.\n",
    "2. `data_dictionary` that contains the different field names that we might want to include in our dataset.\n",
    "3. `coding_dictionary` that contains a lookup for the values for some of the field names.\n"
   ]
  },
  {
   "cell_type": "markdown",
   "metadata": {},
   "source": [
    "*Note: The following cell can only be run once. Otherwise, you'll need to delete the existing data tables in order to re-run*\n"
   ]
  },
  {
   "cell_type": "code",
   "execution_count": 9,
   "metadata": {
    "tags": []
   },
   "outputs": [
    {
     "data": {
      "text/plain": [
       "0"
      ]
     },
     "execution_count": 9,
     "metadata": {},
     "output_type": "execute_result"
    }
   ],
   "source": [
    "cmd = [\"dx\", \"extract_dataset\", dataset, \"-ddd\", \"--delimiter\", \",\"]\n",
    "subprocess.check_call(cmd)"
   ]
  },
  {
   "cell_type": "markdown",
   "metadata": {},
   "source": [
    "Specify fields ID to retrieve."
   ]
  },
  {
   "cell_type": "markdown",
   "metadata": {},
   "source": [
    "- `eid` - Participant's ID\n",
    "- `41270` - [Diagnoses - ICD10](https://biobank.ndph.ox.ac.uk/ukb/field.cgi?id=41270)"
   ]
  },
  {
   "cell_type": "markdown",
   "metadata": {},
   "source": [
    "## Retrieve data\n",
    "\n",
    "In this section we:\n",
    "1. Use the `data_dictionary.csv` table to filter the list of field names and select ones of interest (i.e. 'eid' and 'p41270').\n",
    "2. Next we concatenate the field names with entity name (i.e. 'participant')\n",
    "3. Finally, we use this list of field names joined with entity names (i.e. 'participant.eid') to query for a dataset with only those fields."
   ]
  },
  {
   "cell_type": "code",
   "execution_count": 10,
   "metadata": {
    "tags": []
   },
   "outputs": [],
   "source": [
    "field_ids = [\"41270\"]"
   ]
  },
  {
   "cell_type": "code",
   "execution_count": 11,
   "metadata": {
    "tags": []
   },
   "outputs": [],
   "source": [
    "path = os.getcwd()"
   ]
  },
  {
   "cell_type": "code",
   "execution_count": 12,
   "metadata": {
    "tags": []
   },
   "outputs": [
    {
     "name": "stderr",
     "output_type": "stream",
     "text": [
      "/tmp/ipykernel_76/118131557.py:2: DtypeWarning: Columns (4,7,8,9,10,15) have mixed types. Specify dtype option on import or set low_memory=False.\n",
      "  data_dict_df = pd.read_csv(data_dict_csv)\n"
     ]
    },
    {
     "data": {
      "text/html": [
       "<div>\n",
       "<style scoped>\n",
       "    .dataframe tbody tr th:only-of-type {\n",
       "        vertical-align: middle;\n",
       "    }\n",
       "\n",
       "    .dataframe tbody tr th {\n",
       "        vertical-align: top;\n",
       "    }\n",
       "\n",
       "    .dataframe thead th {\n",
       "        text-align: right;\n",
       "    }\n",
       "</style>\n",
       "<table border=\"1\" class=\"dataframe\">\n",
       "  <thead>\n",
       "    <tr style=\"text-align: right;\">\n",
       "      <th></th>\n",
       "      <th>entity</th>\n",
       "      <th>name</th>\n",
       "      <th>type</th>\n",
       "      <th>primary_key_type</th>\n",
       "      <th>coding_name</th>\n",
       "      <th>concept</th>\n",
       "      <th>description</th>\n",
       "      <th>folder_path</th>\n",
       "      <th>is_multi_select</th>\n",
       "      <th>is_sparse_coding</th>\n",
       "      <th>linkout</th>\n",
       "      <th>longitudinal_axis_type</th>\n",
       "      <th>referenced_entity_field</th>\n",
       "      <th>relationship</th>\n",
       "      <th>title</th>\n",
       "      <th>units</th>\n",
       "    </tr>\n",
       "  </thead>\n",
       "  <tbody>\n",
       "    <tr>\n",
       "      <th>0</th>\n",
       "      <td>participant</td>\n",
       "      <td>eid</td>\n",
       "      <td>string</td>\n",
       "      <td>global</td>\n",
       "      <td>NaN</td>\n",
       "      <td>NaN</td>\n",
       "      <td>NaN</td>\n",
       "      <td>Participant Information</td>\n",
       "      <td>NaN</td>\n",
       "      <td>NaN</td>\n",
       "      <td>NaN</td>\n",
       "      <td>NaN</td>\n",
       "      <td>NaN</td>\n",
       "      <td>NaN</td>\n",
       "      <td>Participant ID</td>\n",
       "      <td>NaN</td>\n",
       "    </tr>\n",
       "    <tr>\n",
       "      <th>1</th>\n",
       "      <td>participant</td>\n",
       "      <td>p3_i0</td>\n",
       "      <td>integer</td>\n",
       "      <td>NaN</td>\n",
       "      <td>NaN</td>\n",
       "      <td>NaN</td>\n",
       "      <td>NaN</td>\n",
       "      <td>Assessment centre &gt; Procedural metrics &gt; Proce...</td>\n",
       "      <td>NaN</td>\n",
       "      <td>NaN</td>\n",
       "      <td>http://biobank.ctsu.ox.ac.uk/crystal/field.cgi...</td>\n",
       "      <td>NaN</td>\n",
       "      <td>NaN</td>\n",
       "      <td>NaN</td>\n",
       "      <td>Verbal interview duration | Instance 0</td>\n",
       "      <td>seconds</td>\n",
       "    </tr>\n",
       "    <tr>\n",
       "      <th>2</th>\n",
       "      <td>participant</td>\n",
       "      <td>p3_i1</td>\n",
       "      <td>integer</td>\n",
       "      <td>NaN</td>\n",
       "      <td>NaN</td>\n",
       "      <td>NaN</td>\n",
       "      <td>NaN</td>\n",
       "      <td>Assessment centre &gt; Procedural metrics &gt; Proce...</td>\n",
       "      <td>NaN</td>\n",
       "      <td>NaN</td>\n",
       "      <td>http://biobank.ctsu.ox.ac.uk/crystal/field.cgi...</td>\n",
       "      <td>NaN</td>\n",
       "      <td>NaN</td>\n",
       "      <td>NaN</td>\n",
       "      <td>Verbal interview duration | Instance 1</td>\n",
       "      <td>seconds</td>\n",
       "    </tr>\n",
       "    <tr>\n",
       "      <th>3</th>\n",
       "      <td>participant</td>\n",
       "      <td>p3_i2</td>\n",
       "      <td>integer</td>\n",
       "      <td>NaN</td>\n",
       "      <td>NaN</td>\n",
       "      <td>NaN</td>\n",
       "      <td>NaN</td>\n",
       "      <td>Assessment centre &gt; Procedural metrics &gt; Proce...</td>\n",
       "      <td>NaN</td>\n",
       "      <td>NaN</td>\n",
       "      <td>http://biobank.ctsu.ox.ac.uk/crystal/field.cgi...</td>\n",
       "      <td>NaN</td>\n",
       "      <td>NaN</td>\n",
       "      <td>NaN</td>\n",
       "      <td>Verbal interview duration | Instance 2</td>\n",
       "      <td>seconds</td>\n",
       "    </tr>\n",
       "    <tr>\n",
       "      <th>4</th>\n",
       "      <td>participant</td>\n",
       "      <td>p3_i3</td>\n",
       "      <td>integer</td>\n",
       "      <td>NaN</td>\n",
       "      <td>NaN</td>\n",
       "      <td>NaN</td>\n",
       "      <td>NaN</td>\n",
       "      <td>Assessment centre &gt; Procedural metrics &gt; Proce...</td>\n",
       "      <td>NaN</td>\n",
       "      <td>NaN</td>\n",
       "      <td>http://biobank.ctsu.ox.ac.uk/crystal/field.cgi...</td>\n",
       "      <td>NaN</td>\n",
       "      <td>NaN</td>\n",
       "      <td>NaN</td>\n",
       "      <td>Verbal interview duration | Instance 3</td>\n",
       "      <td>seconds</td>\n",
       "    </tr>\n",
       "  </tbody>\n",
       "</table>\n",
       "</div>"
      ],
      "text/plain": [
       "        entity   name     type primary_key_type coding_name  concept  \\\n",
       "0  participant    eid   string           global         NaN      NaN   \n",
       "1  participant  p3_i0  integer              NaN         NaN      NaN   \n",
       "2  participant  p3_i1  integer              NaN         NaN      NaN   \n",
       "3  participant  p3_i2  integer              NaN         NaN      NaN   \n",
       "4  participant  p3_i3  integer              NaN         NaN      NaN   \n",
       "\n",
       "   description                                        folder_path  \\\n",
       "0          NaN                            Participant Information   \n",
       "1          NaN  Assessment centre > Procedural metrics > Proce...   \n",
       "2          NaN  Assessment centre > Procedural metrics > Proce...   \n",
       "3          NaN  Assessment centre > Procedural metrics > Proce...   \n",
       "4          NaN  Assessment centre > Procedural metrics > Proce...   \n",
       "\n",
       "  is_multi_select is_sparse_coding  \\\n",
       "0             NaN              NaN   \n",
       "1             NaN              NaN   \n",
       "2             NaN              NaN   \n",
       "3             NaN              NaN   \n",
       "4             NaN              NaN   \n",
       "\n",
       "                                             linkout  longitudinal_axis_type  \\\n",
       "0                                                NaN                     NaN   \n",
       "1  http://biobank.ctsu.ox.ac.uk/crystal/field.cgi...                     NaN   \n",
       "2  http://biobank.ctsu.ox.ac.uk/crystal/field.cgi...                     NaN   \n",
       "3  http://biobank.ctsu.ox.ac.uk/crystal/field.cgi...                     NaN   \n",
       "4  http://biobank.ctsu.ox.ac.uk/crystal/field.cgi...                     NaN   \n",
       "\n",
       "  referenced_entity_field relationship  \\\n",
       "0                     NaN          NaN   \n",
       "1                     NaN          NaN   \n",
       "2                     NaN          NaN   \n",
       "3                     NaN          NaN   \n",
       "4                     NaN          NaN   \n",
       "\n",
       "                                    title    units  \n",
       "0                          Participant ID      NaN  \n",
       "1  Verbal interview duration | Instance 0  seconds  \n",
       "2  Verbal interview duration | Instance 1  seconds  \n",
       "3  Verbal interview duration | Instance 2  seconds  \n",
       "4  Verbal interview duration | Instance 3  seconds  "
      ]
     },
     "execution_count": 12,
     "metadata": {},
     "output_type": "execute_result"
    }
   ],
   "source": [
    "data_dict_csv = glob.glob(os.path.join(path, \"*.data_dictionary.csv\"))[0]\n",
    "data_dict_df = pd.read_csv(data_dict_csv)\n",
    "data_dict_df.head()"
   ]
  },
  {
   "cell_type": "code",
   "execution_count": 13,
   "metadata": {
    "tags": []
   },
   "outputs": [],
   "source": [
    "# The UKB participant tables have the following naming convention for the fields (or columns): \"p<field id>_i<instance id>_a<array id>\"\n",
    "# This function is used to grab all field names (e.g. \"p<field_id>_iYYY_aZZZ\") given a list of field IDs and return string to pass into\n",
    "# extract_dataset\n",
    "def fields_for_id(field_id):\n",
    "    field_names = [\"eid\"]\n",
    "    for _id in field_id:\n",
    "        select_field_names = list(\n",
    "            data_dict_df[\n",
    "                data_dict_df.name.str.match(r\"^p{}(_i\\d+)?(_a\\d+)?$\".format(_id))\n",
    "            ].name.values\n",
    "        )\n",
    "        field_names += select_field_names\n",
    "\n",
    "    field_names = [f\"participant.{f}\" for f in field_names]\n",
    "    return \",\".join(field_names)"
   ]
  },
  {
   "cell_type": "code",
   "execution_count": 14,
   "metadata": {
    "tags": []
   },
   "outputs": [
    {
     "data": {
      "text/plain": [
       "'participant.eid,participant.p41270'"
      ]
     },
     "execution_count": 14,
     "metadata": {},
     "output_type": "execute_result"
    }
   ],
   "source": [
    "field_names = fields_for_id(field_ids)\n",
    "field_names"
   ]
  },
  {
   "cell_type": "code",
   "execution_count": 15,
   "metadata": {
    "tags": []
   },
   "outputs": [
    {
     "data": {
      "text/plain": [
       "0"
      ]
     },
     "execution_count": 15,
     "metadata": {},
     "output_type": "execute_result"
    }
   ],
   "source": [
    "# Load dataset\n",
    "# Note: This cell can only be run once. Otherwise, you'll need to delete the existing data tables in order to re-run\n",
    "# Note: There is no space separating the different fields\n",
    "cmd = [\n",
    "    \"dx\",\n",
    "    \"extract_dataset\",\n",
    "    dataset,\n",
    "    \"--fields\",\n",
    "    field_names,\n",
    "    \"--delimiter\",\n",
    "    \",\",\n",
    "    \"--output\",\n",
    "    \"pheno_dictionary.csv\",\n",
    "]\n",
    "subprocess.check_call(cmd)"
   ]
  },
  {
   "cell_type": "code",
   "execution_count": 16,
   "metadata": {
    "tags": []
   },
   "outputs": [
    {
     "data": {
      "text/html": [
       "<div>\n",
       "<style scoped>\n",
       "    .dataframe tbody tr th:only-of-type {\n",
       "        vertical-align: middle;\n",
       "    }\n",
       "\n",
       "    .dataframe tbody tr th {\n",
       "        vertical-align: top;\n",
       "    }\n",
       "\n",
       "    .dataframe thead th {\n",
       "        text-align: right;\n",
       "    }\n",
       "</style>\n",
       "<table border=\"1\" class=\"dataframe\">\n",
       "  <thead>\n",
       "    <tr style=\"text-align: right;\">\n",
       "      <th></th>\n",
       "      <th>participant.eid</th>\n",
       "      <th>participant.p41270</th>\n",
       "    </tr>\n",
       "  </thead>\n",
       "  <tbody>\n",
       "    <tr>\n",
       "      <th>0</th>\n",
       "      <td>1000128</td>\n",
       "      <td>[\"C61\",\"F419\",\"K219\",\"N320\",\"N359\",\"N991\",\"Y83...</td>\n",
       "    </tr>\n",
       "    <tr>\n",
       "      <th>1</th>\n",
       "      <td>1000424</td>\n",
       "      <td>NaN</td>\n",
       "    </tr>\n",
       "    <tr>\n",
       "      <th>2</th>\n",
       "      <td>1000569</td>\n",
       "      <td>[\"E780\",\"E785\",\"E789\",\"I10\",\"I200\",\"I209\",\"I25...</td>\n",
       "    </tr>\n",
       "    <tr>\n",
       "      <th>3</th>\n",
       "      <td>1000639</td>\n",
       "      <td>[\"D125\",\"D128\",\"I849\",\"K621\",\"K635\",\"K641\",\"L2...</td>\n",
       "    </tr>\n",
       "    <tr>\n",
       "      <th>4</th>\n",
       "      <td>1000686</td>\n",
       "      <td>[\"C435\",\"D179\",\"E780\",\"H401\",\"H409\",\"I10\",\"I20...</td>\n",
       "    </tr>\n",
       "  </tbody>\n",
       "</table>\n",
       "</div>"
      ],
      "text/plain": [
       "   participant.eid                                 participant.p41270\n",
       "0          1000128  [\"C61\",\"F419\",\"K219\",\"N320\",\"N359\",\"N991\",\"Y83...\n",
       "1          1000424                                                NaN\n",
       "2          1000569  [\"E780\",\"E785\",\"E789\",\"I10\",\"I200\",\"I209\",\"I25...\n",
       "3          1000639  [\"D125\",\"D128\",\"I849\",\"K621\",\"K635\",\"K641\",\"L2...\n",
       "4          1000686  [\"C435\",\"D179\",\"E780\",\"H401\",\"H409\",\"I10\",\"I20..."
      ]
     },
     "execution_count": 16,
     "metadata": {},
     "output_type": "execute_result"
    }
   ],
   "source": [
    "pheno_dict_csv = \"pheno_dictionary.csv\"\n",
    "pheno = pd.read_csv(pheno_dict_csv)\n",
    "pheno.head()"
   ]
  },
  {
   "cell_type": "code",
   "execution_count": 17,
   "metadata": {
    "tags": []
   },
   "outputs": [
    {
     "data": {
      "text/html": [
       "<div>\n",
       "<style scoped>\n",
       "    .dataframe tbody tr th:only-of-type {\n",
       "        vertical-align: middle;\n",
       "    }\n",
       "\n",
       "    .dataframe tbody tr th {\n",
       "        vertical-align: top;\n",
       "    }\n",
       "\n",
       "    .dataframe thead th {\n",
       "        text-align: right;\n",
       "    }\n",
       "</style>\n",
       "<table border=\"1\" class=\"dataframe\">\n",
       "  <thead>\n",
       "    <tr style=\"text-align: right;\">\n",
       "      <th></th>\n",
       "      <th>eid</th>\n",
       "      <th>p41270</th>\n",
       "    </tr>\n",
       "  </thead>\n",
       "  <tbody>\n",
       "    <tr>\n",
       "      <th>0</th>\n",
       "      <td>1000128</td>\n",
       "      <td>[\"C61\",\"F419\",\"K219\",\"N320\",\"N359\",\"N991\",\"Y83...</td>\n",
       "    </tr>\n",
       "    <tr>\n",
       "      <th>1</th>\n",
       "      <td>1000424</td>\n",
       "      <td>NaN</td>\n",
       "    </tr>\n",
       "    <tr>\n",
       "      <th>2</th>\n",
       "      <td>1000569</td>\n",
       "      <td>[\"E780\",\"E785\",\"E789\",\"I10\",\"I200\",\"I209\",\"I25...</td>\n",
       "    </tr>\n",
       "    <tr>\n",
       "      <th>3</th>\n",
       "      <td>1000639</td>\n",
       "      <td>[\"D125\",\"D128\",\"I849\",\"K621\",\"K635\",\"K641\",\"L2...</td>\n",
       "    </tr>\n",
       "    <tr>\n",
       "      <th>4</th>\n",
       "      <td>1000686</td>\n",
       "      <td>[\"C435\",\"D179\",\"E780\",\"H401\",\"H409\",\"I10\",\"I20...</td>\n",
       "    </tr>\n",
       "  </tbody>\n",
       "</table>\n",
       "</div>"
      ],
      "text/plain": [
       "       eid                                             p41270\n",
       "0  1000128  [\"C61\",\"F419\",\"K219\",\"N320\",\"N359\",\"N991\",\"Y83...\n",
       "1  1000424                                                NaN\n",
       "2  1000569  [\"E780\",\"E785\",\"E789\",\"I10\",\"I200\",\"I209\",\"I25...\n",
       "3  1000639  [\"D125\",\"D128\",\"I849\",\"K621\",\"K635\",\"K641\",\"L2...\n",
       "4  1000686  [\"C435\",\"D179\",\"E780\",\"H401\",\"H409\",\"I10\",\"I20..."
      ]
     },
     "execution_count": 17,
     "metadata": {},
     "output_type": "execute_result"
    }
   ],
   "source": [
    "# Rename column headers\n",
    "pheno = pheno.rename(columns=lambda x: re.sub(\"participant.\", \"\", x))\n",
    "pheno.head()"
   ]
  },
  {
   "cell_type": "code",
   "execution_count": 18,
   "metadata": {
    "tags": []
   },
   "outputs": [
    {
     "data": {
      "text/plain": [
       "(502137, 2)"
      ]
     },
     "execution_count": 18,
     "metadata": {},
     "output_type": "execute_result"
    }
   ],
   "source": [
    "pheno.shape"
   ]
  },
  {
   "cell_type": "markdown",
   "metadata": {},
   "source": [
    "## Create phenotype table in PheWAS format\n",
    "\n",
    "Each row is containing one phenotype (ICD 10 diagnosis) for one participant. Therefore, when participant has multiple diagnoses, participants eid will appear multiple times."
   ]
  },
  {
   "cell_type": "code",
   "execution_count": 19,
   "metadata": {
    "tags": []
   },
   "outputs": [
    {
     "data": {
      "text/html": [
       "<div>\n",
       "<style scoped>\n",
       "    .dataframe tbody tr th:only-of-type {\n",
       "        vertical-align: middle;\n",
       "    }\n",
       "\n",
       "    .dataframe tbody tr th {\n",
       "        vertical-align: top;\n",
       "    }\n",
       "\n",
       "    .dataframe thead th {\n",
       "        text-align: right;\n",
       "    }\n",
       "</style>\n",
       "<table border=\"1\" class=\"dataframe\">\n",
       "  <thead>\n",
       "    <tr style=\"text-align: right;\">\n",
       "      <th></th>\n",
       "      <th>p41270</th>\n",
       "    </tr>\n",
       "    <tr>\n",
       "      <th>eid</th>\n",
       "      <th></th>\n",
       "    </tr>\n",
       "  </thead>\n",
       "  <tbody>\n",
       "    <tr>\n",
       "      <th>1000128</th>\n",
       "      <td>[C61, F419, K219, N320, N359, N991, Y836, Z854]</td>\n",
       "    </tr>\n",
       "    <tr>\n",
       "      <th>1000569</th>\n",
       "      <td>[E780, E785, E789, I10, I200, I209, I251, I259...</td>\n",
       "    </tr>\n",
       "    <tr>\n",
       "      <th>1000639</th>\n",
       "      <td>[D125, D128, I849, K621, K635, K641, L290, Z871]</td>\n",
       "    </tr>\n",
       "    <tr>\n",
       "      <th>1000686</th>\n",
       "      <td>[C435, D179, E780, H401, H409, I10, I209, I214...</td>\n",
       "    </tr>\n",
       "    <tr>\n",
       "      <th>1000695</th>\n",
       "      <td>[H811, I10, I340, I451, I48, I489, I639, J338,...</td>\n",
       "    </tr>\n",
       "  </tbody>\n",
       "</table>\n",
       "</div>"
      ],
      "text/plain": [
       "                                                    p41270\n",
       "eid                                                       \n",
       "1000128    [C61, F419, K219, N320, N359, N991, Y836, Z854]\n",
       "1000569  [E780, E785, E789, I10, I200, I209, I251, I259...\n",
       "1000639   [D125, D128, I849, K621, K635, K641, L290, Z871]\n",
       "1000686  [C435, D179, E780, H401, H409, I10, I209, I214...\n",
       "1000695  [H811, I10, I340, I451, I48, I489, I639, J338,..."
      ]
     },
     "execution_count": 19,
     "metadata": {},
     "output_type": "execute_result"
    }
   ],
   "source": [
    "# Convert the values in the p41270 column from a string representation of a list to an actual list\n",
    "# using ast.literal_eval()\n",
    "pheno = pheno.set_index(\"eid\").dropna()\n",
    "pheno[\"p41270\"] = pheno[\"p41270\"].apply(lambda x: ast.literal_eval(x))\n",
    "pheno.head()"
   ]
  },
  {
   "cell_type": "code",
   "execution_count": 20,
   "metadata": {
    "tags": []
   },
   "outputs": [
    {
     "data": {
      "text/html": [
       "<div>\n",
       "<style scoped>\n",
       "    .dataframe tbody tr th:only-of-type {\n",
       "        vertical-align: middle;\n",
       "    }\n",
       "\n",
       "    .dataframe tbody tr th {\n",
       "        vertical-align: top;\n",
       "    }\n",
       "\n",
       "    .dataframe thead th {\n",
       "        text-align: right;\n",
       "    }\n",
       "</style>\n",
       "<table border=\"1\" class=\"dataframe\">\n",
       "  <thead>\n",
       "    <tr style=\"text-align: right;\">\n",
       "      <th></th>\n",
       "      <th>id</th>\n",
       "      <th>vocabulary_id</th>\n",
       "      <th>code</th>\n",
       "      <th>count</th>\n",
       "    </tr>\n",
       "  </thead>\n",
       "  <tbody>\n",
       "    <tr>\n",
       "      <th>0</th>\n",
       "      <td>1000128</td>\n",
       "      <td>ICD10</td>\n",
       "      <td>C61</td>\n",
       "      <td>1</td>\n",
       "    </tr>\n",
       "    <tr>\n",
       "      <th>1</th>\n",
       "      <td>1000128</td>\n",
       "      <td>ICD10</td>\n",
       "      <td>F419</td>\n",
       "      <td>1</td>\n",
       "    </tr>\n",
       "    <tr>\n",
       "      <th>2</th>\n",
       "      <td>1000128</td>\n",
       "      <td>ICD10</td>\n",
       "      <td>K219</td>\n",
       "      <td>1</td>\n",
       "    </tr>\n",
       "    <tr>\n",
       "      <th>3</th>\n",
       "      <td>1000128</td>\n",
       "      <td>ICD10</td>\n",
       "      <td>N320</td>\n",
       "      <td>1</td>\n",
       "    </tr>\n",
       "    <tr>\n",
       "      <th>4</th>\n",
       "      <td>1000128</td>\n",
       "      <td>ICD10</td>\n",
       "      <td>N359</td>\n",
       "      <td>1</td>\n",
       "    </tr>\n",
       "  </tbody>\n",
       "</table>\n",
       "</div>"
      ],
      "text/plain": [
       "        id vocabulary_id  code  count\n",
       "0  1000128         ICD10   C61      1\n",
       "1  1000128         ICD10  F419      1\n",
       "2  1000128         ICD10  K219      1\n",
       "3  1000128         ICD10  N320      1\n",
       "4  1000128         ICD10  N359      1"
      ]
     },
     "execution_count": 20,
     "metadata": {},
     "output_type": "execute_result"
    }
   ],
   "source": [
    "pheno_long_all = pheno.explode(\"p41270\").reset_index()\n",
    "pheno_long_all[\"count\"] = 1\n",
    "pheno_long_all[\"vocabulary_id\"] = \"ICD10\"\n",
    "pheno_long_all.rename({\"eid\": \"id\", \"p41270\": \"code\"}, axis=1, inplace=True)\n",
    "pheno_long_all = pheno_long_all[[\"id\", \"vocabulary_id\", \"code\", \"count\"]]\n",
    "pheno_long_all.head()"
   ]
  },
  {
   "cell_type": "code",
   "execution_count": 21,
   "metadata": {
    "tags": []
   },
   "outputs": [
    {
     "data": {
      "text/plain": [
       "(7015611, 4)"
      ]
     },
     "execution_count": 21,
     "metadata": {},
     "output_type": "execute_result"
    }
   ],
   "source": [
    "pheno_long_all.shape"
   ]
  },
  {
   "cell_type": "markdown",
   "metadata": {},
   "source": [
    "### Save phenotype table as CSV file and upload it"
   ]
  },
  {
   "cell_type": "code",
   "execution_count": 22,
   "metadata": {
    "tags": []
   },
   "outputs": [],
   "source": [
    "pheno_long_all.to_csv(\"pheno_icd10_long.csv\", index=False)"
   ]
  },
  {
   "cell_type": "code",
   "execution_count": 24,
   "metadata": {
    "tags": []
   },
   "outputs": [
    {
     "name": "stdout",
     "output_type": "stream",
     "text": [
      "dxpy.exceptions.ResourceNotFound: The folder could not be found in project-GvQgb10JjKY3XGbpZbGVg0v3, code 404. Request Time=1746425874.373736, Request ID=1746425874375-205934\n"
     ]
    }
   ],
   "source": [
    "!dx upload pheno_icd10_long.csv --path /phewas/"
   ]
  },
  {
   "cell_type": "markdown",
   "metadata": {},
   "source": [
    "## Get covariate files"
   ]
  },
  {
   "cell_type": "code",
   "execution_count": 1,
   "metadata": {},
   "outputs": [
    {
     "name": "stdout",
     "output_type": "stream",
     "text": [
      "\u001b[2K[===========================================================>] Completed 44,887,031 of 44,887,031 bytes (100%) /opt/notebooks/scripts/ischemia_df.phehe\n"
     ]
    }
   ],
   "source": [
    "!dx download -f /Data/ischemia_df.phe"
   ]
  },
  {
   "cell_type": "code",
   "execution_count": 4,
   "metadata": {},
   "outputs": [
    {
     "data": {
      "text/html": [
       "<div>\n",
       "<style scoped>\n",
       "    .dataframe tbody tr th:only-of-type {\n",
       "        vertical-align: middle;\n",
       "    }\n",
       "\n",
       "    .dataframe tbody tr th {\n",
       "        vertical-align: top;\n",
       "    }\n",
       "\n",
       "    .dataframe thead th {\n",
       "        text-align: right;\n",
       "    }\n",
       "</style>\n",
       "<table border=\"1\" class=\"dataframe\">\n",
       "  <thead>\n",
       "    <tr style=\"text-align: right;\">\n",
       "      <th></th>\n",
       "      <th>FID</th>\n",
       "      <th>IID</th>\n",
       "      <th>sex</th>\n",
       "      <th>age</th>\n",
       "      <th>bmi</th>\n",
       "      <th>ever_smoked</th>\n",
       "      <th>hdl_cholesterol</th>\n",
       "      <th>ldl_cholesterol</th>\n",
       "      <th>hypertension</th>\n",
       "      <th>ischemia_cc</th>\n",
       "      <th>pc1</th>\n",
       "      <th>pc2</th>\n",
       "      <th>pc3</th>\n",
       "      <th>pc4</th>\n",
       "      <th>pc5</th>\n",
       "      <th>pc6</th>\n",
       "      <th>pc7</th>\n",
       "      <th>pc8</th>\n",
       "      <th>pc9</th>\n",
       "      <th>pc10</th>\n",
       "    </tr>\n",
       "  </thead>\n",
       "  <tbody>\n",
       "    <tr>\n",
       "      <th>0</th>\n",
       "      <td>1001251</td>\n",
       "      <td>1001251</td>\n",
       "      <td>0</td>\n",
       "      <td>51</td>\n",
       "      <td>24.4</td>\n",
       "      <td>1.0</td>\n",
       "      <td>1.452362</td>\n",
       "      <td>3.570649</td>\n",
       "      <td>0</td>\n",
       "      <td>1</td>\n",
       "      <td>-14.2457</td>\n",
       "      <td>3.96257</td>\n",
       "      <td>-1.018640</td>\n",
       "      <td>2.277420</td>\n",
       "      <td>-4.21549</td>\n",
       "      <td>-0.100448</td>\n",
       "      <td>1.524450</td>\n",
       "      <td>-1.246880</td>\n",
       "      <td>1.368960</td>\n",
       "      <td>2.570260</td>\n",
       "    </tr>\n",
       "    <tr>\n",
       "      <th>1</th>\n",
       "      <td>1001445</td>\n",
       "      <td>1001445</td>\n",
       "      <td>1</td>\n",
       "      <td>63</td>\n",
       "      <td>30.2</td>\n",
       "      <td>1.0</td>\n",
       "      <td>0.973000</td>\n",
       "      <td>2.930000</td>\n",
       "      <td>1</td>\n",
       "      <td>1</td>\n",
       "      <td>-13.4369</td>\n",
       "      <td>3.02070</td>\n",
       "      <td>-3.195770</td>\n",
       "      <td>0.428490</td>\n",
       "      <td>6.21226</td>\n",
       "      <td>-1.478700</td>\n",
       "      <td>1.282360</td>\n",
       "      <td>-1.606150</td>\n",
       "      <td>0.199501</td>\n",
       "      <td>-4.308460</td>\n",
       "    </tr>\n",
       "    <tr>\n",
       "      <th>2</th>\n",
       "      <td>1003040</td>\n",
       "      <td>1003040</td>\n",
       "      <td>0</td>\n",
       "      <td>57</td>\n",
       "      <td>31.7</td>\n",
       "      <td>1.0</td>\n",
       "      <td>1.291000</td>\n",
       "      <td>2.345000</td>\n",
       "      <td>1</td>\n",
       "      <td>1</td>\n",
       "      <td>-13.4688</td>\n",
       "      <td>4.63916</td>\n",
       "      <td>-2.339450</td>\n",
       "      <td>0.502712</td>\n",
       "      <td>-2.63828</td>\n",
       "      <td>0.662364</td>\n",
       "      <td>0.931805</td>\n",
       "      <td>0.987020</td>\n",
       "      <td>-5.069820</td>\n",
       "      <td>2.115390</td>\n",
       "    </tr>\n",
       "    <tr>\n",
       "      <th>3</th>\n",
       "      <td>1004201</td>\n",
       "      <td>1004201</td>\n",
       "      <td>0</td>\n",
       "      <td>55</td>\n",
       "      <td>36.8</td>\n",
       "      <td>1.0</td>\n",
       "      <td>1.465000</td>\n",
       "      <td>4.716000</td>\n",
       "      <td>0</td>\n",
       "      <td>1</td>\n",
       "      <td>-11.7176</td>\n",
       "      <td>3.71645</td>\n",
       "      <td>-0.737745</td>\n",
       "      <td>1.572150</td>\n",
       "      <td>-1.20120</td>\n",
       "      <td>-1.681440</td>\n",
       "      <td>1.290020</td>\n",
       "      <td>-0.223860</td>\n",
       "      <td>-5.693960</td>\n",
       "      <td>-1.878020</td>\n",
       "    </tr>\n",
       "    <tr>\n",
       "      <th>4</th>\n",
       "      <td>1004219</td>\n",
       "      <td>1004219</td>\n",
       "      <td>0</td>\n",
       "      <td>45</td>\n",
       "      <td>37.1</td>\n",
       "      <td>0.0</td>\n",
       "      <td>1.483000</td>\n",
       "      <td>3.084000</td>\n",
       "      <td>1</td>\n",
       "      <td>1</td>\n",
       "      <td>-12.1573</td>\n",
       "      <td>2.01404</td>\n",
       "      <td>-2.064440</td>\n",
       "      <td>1.280780</td>\n",
       "      <td>-1.68080</td>\n",
       "      <td>2.864480</td>\n",
       "      <td>2.142890</td>\n",
       "      <td>-0.380478</td>\n",
       "      <td>-4.603690</td>\n",
       "      <td>0.058457</td>\n",
       "    </tr>\n",
       "  </tbody>\n",
       "</table>\n",
       "</div>"
      ],
      "text/plain": [
       "       FID      IID  sex  age   bmi  ever_smoked  hdl_cholesterol  \\\n",
       "0  1001251  1001251    0   51  24.4          1.0         1.452362   \n",
       "1  1001445  1001445    1   63  30.2          1.0         0.973000   \n",
       "2  1003040  1003040    0   57  31.7          1.0         1.291000   \n",
       "3  1004201  1004201    0   55  36.8          1.0         1.465000   \n",
       "4  1004219  1004219    0   45  37.1          0.0         1.483000   \n",
       "\n",
       "   ldl_cholesterol  hypertension  ischemia_cc      pc1      pc2       pc3  \\\n",
       "0         3.570649             0            1 -14.2457  3.96257 -1.018640   \n",
       "1         2.930000             1            1 -13.4369  3.02070 -3.195770   \n",
       "2         2.345000             1            1 -13.4688  4.63916 -2.339450   \n",
       "3         4.716000             0            1 -11.7176  3.71645 -0.737745   \n",
       "4         3.084000             1            1 -12.1573  2.01404 -2.064440   \n",
       "\n",
       "        pc4      pc5       pc6       pc7       pc8       pc9      pc10  \n",
       "0  2.277420 -4.21549 -0.100448  1.524450 -1.246880  1.368960  2.570260  \n",
       "1  0.428490  6.21226 -1.478700  1.282360 -1.606150  0.199501 -4.308460  \n",
       "2  0.502712 -2.63828  0.662364  0.931805  0.987020 -5.069820  2.115390  \n",
       "3  1.572150 -1.20120 -1.681440  1.290020 -0.223860 -5.693960 -1.878020  \n",
       "4  1.280780 -1.68080  2.864480  2.142890 -0.380478 -4.603690  0.058457  "
      ]
     },
     "execution_count": 4,
     "metadata": {},
     "output_type": "execute_result"
    }
   ],
   "source": [
    "pheno = pd.read_csv(\"ischemia_df.phe\", sep='\\t')\n",
    "pheno.head()"
   ]
  },
  {
   "cell_type": "code",
   "execution_count": 5,
   "metadata": {},
   "outputs": [],
   "source": [
    "pheno[['FID']].to_csv('eids_to_keep.txt', index=False, sep='\\t', header=False)"
   ]
  },
  {
   "cell_type": "code",
   "execution_count": 6,
   "metadata": {},
   "outputs": [
    {
     "name": "stdout",
     "output_type": "stream",
     "text": [
      "[===========================================================>] Uploaded 2,655,968 of 2,655,968 bytes (100%) eids_to_keep.txt\n",
      "ID                                file-J0G6BzjJjKYBzvP4Vx26Pf32\n",
      "Class                             file\n",
      "Project                           project-GvQgb10JjKY3XGbpZbGVg0v3\n",
      "Folder                            /Data\n",
      "Name                              eids_to_keep.txt\n",
      "State                             \u001b[33mclosing\u001b[0m\n",
      "Visibility                        visible\n",
      "Types                             -\n",
      "Properties                        -\n",
      "Tags                              -\n",
      "Outgoing links                    -\n",
      "Created                           Mon May  5 07:15:11 2025\n",
      "Created by                        eila_zhong\n",
      " via the job                      job-J0G50z8JjKY6pPyz0G5P7Qqy\n",
      "Last modified                     Mon May  5 07:15:12 2025\n",
      "Media type                        \n",
      "archivalState                     \"live\"\n",
      "cloudAccount                      \"cloudaccount-dnanexus\"\n"
     ]
    }
   ],
   "source": [
    "!dx upload eids_to_keep.txt --path /Data/"
   ]
  },
  {
   "cell_type": "code",
   "execution_count": 7,
   "metadata": {},
   "outputs": [],
   "source": [
    "covars = pheno.loc[:, [col for col in pheno.columns if col not in ['FID', 'ischemia_cc', 'hdl_cholesterol', 'ldl_cholesterol', 'hypertension']]]\n",
    "covars.rename(columns={'IID': 'id'}, inplace=True)"
   ]
  },
  {
   "cell_type": "code",
   "execution_count": 8,
   "metadata": {},
   "outputs": [],
   "source": [
    "covars.to_csv('covariates.txt', index=False, sep='\\t')"
   ]
  },
  {
   "cell_type": "code",
   "execution_count": 9,
   "metadata": {},
   "outputs": [
    {
     "name": "stdout",
     "output_type": "stream",
     "text": [
      "dxpy.exceptions.ResourceNotFound: The folder could not be found in project-GvQgb10JjKY3XGbpZbGVg0v3, code 404. Request Time=1746429335.9734356, Request ID=1746429335975-590845\n"
     ]
    }
   ],
   "source": [
    "!dx upload covariates.txt --path /Data/PheWAS/"
   ]
  },
  {
   "cell_type": "markdown",
   "metadata": {},
   "source": [
    "## Get genetic data"
   ]
  },
  {
   "cell_type": "markdown",
   "metadata": {},
   "source": [
    "Download results of LD clumping"
   ]
  },
  {
   "cell_type": "code",
   "execution_count": null,
   "metadata": {},
   "outputs": [],
   "source": [
    "!dx download -f /Data/LD_clump/plink_all_ld_clumped_ld_clumped.clumped"
   ]
  },
  {
   "cell_type": "code",
   "execution_count": null,
   "metadata": {},
   "outputs": [],
   "source": [
    "ld_results = pd.read_csv('plink_all_ld_clumped_ld_clumped.clumped', delim_whitespace=True)\n",
    "ld_results.sort_values(by='P').head()"
   ]
  },
  {
   "cell_type": "code",
   "execution_count": null,
   "metadata": {},
   "outputs": [],
   "source": [
    "ld_results.shape"
   ]
  },
  {
   "cell_type": "code",
   "execution_count": null,
   "metadata": {},
   "outputs": [],
   "source": [
    "%%bash\n",
    "# Create symlink for imputed data\n",
    "DIR='/mnt/project/Bulk/Imputation/Imputation*from*genotype*(GEL)'\n",
    "ln -sf $DIR /opt/notebooks/imputed\n",
    "DIR2=/mnt/project/Bulk-DRL/GEL_imputed_sample_files_fixed/\n",
    "ln -sf $DIR2 /opt/notebooks/samples"
   ]
  },
  {
   "cell_type": "markdown",
   "metadata": {},
   "source": [
    "For each varinat in LD table, extract genotypes and create PLINK raw file."
   ]
  },
  {
   "cell_type": "code",
   "execution_count": null,
   "metadata": {},
   "outputs": [],
   "source": [
    "if os.path.exists('phewas_geno_data'):\n",
    "    shutil.rmtree('phewas_geno_data')\n",
    "\n",
    "os.mkdir('phewas_geno_data')\n",
    "\n",
    "for rsid in ld_results['SNP'].values:\n",
    "    chromosome = ld_results[ld_results['SNP'] == rsid]['CHR'].values[0]\n",
    "    #rsid = 'rs10455872'\n",
    "    print(f'rsID: {rsid}, chromosome: {chromosome}')\n",
    "    new_bgen_name = f'phewas_geno_data/{rsid}.bgen'\n",
    "    plink_output_prefix = f'phewas_geno_data/plink_{rsid}'\n",
    "    with open(new_bgen_name, 'wb') as new_bgen:\n",
    "        print(f'Extract significant rsIDs')\n",
    "        subprocess.check_call(['/opt/notebooks/bgen.tgz/build/apps/bgenix', '-g', f'imputed/ukb21008_c{chromosome}_b0_v1.bgen', \n",
    "                        '-incl-rsids', rsid], stdout=new_bgen, stderr=subprocess.PIPE)\n",
    "        print(f'Make PLINK files')\n",
    "        subprocess.check_call(['./plink2', '--bgen', new_bgen_name, 'ref-first', '--sample', \n",
    "                           f'samples/ukb21008_c{chromosome}_b0_v1.sample', '--rm-dup', 'force-first', '--out', plink_output_prefix,\n",
    "                           '--keep-fam', 'eids_to_keep.txt', '--export',  'A'])"
   ]
  },
  {
   "cell_type": "markdown",
   "metadata": {},
   "source": [
    "Open each raw PLINK file and rename header to be in PheWAS format."
   ]
  },
  {
   "cell_type": "code",
   "execution_count": null,
   "metadata": {},
   "outputs": [],
   "source": [
    "if os.path.exists('phewas_geno_rsid'):\n",
    "    shutil.rmtree('phewas_geno_rsid')\n",
    "\n",
    "os.mkdir('phewas_geno_rsid')\n",
    "\n",
    "for file in glob.glob('phewas_geno_data/*.raw'):\n",
    "    print(file.split('/')[1])\n",
    "    dosage = pd.read_csv(file, sep='\\t')\n",
    "    dosage = dosage.iloc[:, [0,-1]]\n",
    "    dosage.rename(columns={dosage.columns[0]: 'id', dosage.columns[1]: dosage.columns[1].split('_')[0]}, inplace = True)\n",
    "    dosage.to_csv(f'phewas_geno_rsid/{dosage.columns[1]}.txt', index=False, sep='\\t')"
   ]
  },
  {
   "cell_type": "markdown",
   "metadata": {},
   "source": [
    "Upload data to UKB RAP"
   ]
  },
  {
   "cell_type": "code",
   "execution_count": null,
   "metadata": {},
   "outputs": [],
   "source": [
    "!dx upload -r phewas_geno_rsid/ --path /Data/PheWAS/phewas_geno_rsid/"
   ]
  },
  {
   "cell_type": "markdown",
   "metadata": {},
   "source": [
    "## Output files\n",
    "\n",
    "- Phenome data in long format containing ICD 10 codes per participant (`pheno_icd10_long.csv`)\n",
    "- Covariates file (`covariates.txt`)\n",
    "- List of participants EIDs to include in the analysis (`eids_to_keep.txt`)\n",
    "- Table for each index variant in LD clumping containing 2 columns: participant ID and rsID genotyping results (`<rsid>.raw`)"
   ]
  },
  {
   "cell_type": "code",
   "execution_count": null,
   "metadata": {},
   "outputs": [],
   "source": []
  }
 ],
 "metadata": {
  "jupytext": {
   "formats": "ipynb,py"
  },
  "kernelspec": {
   "display_name": "Python 3 (ipykernel)",
   "language": "python",
   "name": "python3"
  },
  "language_info": {
   "codemirror_mode": {
    "name": "ipython",
    "version": 3
   },
   "file_extension": ".py",
   "mimetype": "text/x-python",
   "name": "python",
   "nbconvert_exporter": "python",
   "pygments_lexer": "ipython3",
   "version": "3.11.5"
  },
  "vscode": {
   "interpreter": {
    "hash": "31f2aee4e71d21fbe5cf8b01ff0e069b9275f58929596ceb00d14d90e3e16cd6"
   }
  }
 },
 "nbformat": 4,
 "nbformat_minor": 4
}
